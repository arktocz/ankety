{
 "cells": [
  {
   "cell_type": "code",
   "execution_count": 1,
   "id": "415bac4a-b3f7-4a61-bafb-0deb14e4f531",
   "metadata": {},
   "outputs": [
    {
     "name": "stdout",
     "output_type": "stream",
     "text": [
      "Requirement already satisfied: pandas in c:\\users\\arkto\\appdata\\local\\programs\\python\\python311\\lib\\site-packages (2.2.2)\n",
      "Requirement already satisfied: aiohttp in c:\\users\\arkto\\appdata\\local\\programs\\python\\python311\\lib\\site-packages (3.9.3)\n",
      "Requirement already satisfied: plotly.express in c:\\users\\arkto\\appdata\\local\\programs\\python\\python311\\lib\\site-packages (0.4.1)\n",
      "Requirement already satisfied: asyncio in c:\\users\\arkto\\appdata\\local\\programs\\python\\python311\\lib\\site-packages (3.4.3)\n",
      "Requirement already satisfied: nbformat in c:\\users\\arkto\\appdata\\local\\programs\\python\\python311\\lib\\site-packages (5.10.4)\n",
      "Requirement already satisfied: numpy>=1.23.2 in c:\\users\\arkto\\appdata\\local\\programs\\python\\python311\\lib\\site-packages (from pandas) (1.26.4)\n",
      "Requirement already satisfied: python-dateutil>=2.8.2 in c:\\users\\arkto\\appdata\\local\\programs\\python\\python311\\lib\\site-packages (from pandas) (2.9.0.post0)\n",
      "Requirement already satisfied: pytz>=2020.1 in c:\\users\\arkto\\appdata\\local\\programs\\python\\python311\\lib\\site-packages (from pandas) (2024.1)\n",
      "Requirement already satisfied: tzdata>=2022.7 in c:\\users\\arkto\\appdata\\local\\programs\\python\\python311\\lib\\site-packages (from pandas) (2024.1)\n",
      "Requirement already satisfied: aiosignal>=1.1.2 in c:\\users\\arkto\\appdata\\local\\programs\\python\\python311\\lib\\site-packages (from aiohttp) (1.3.1)\n",
      "Requirement already satisfied: attrs>=17.3.0 in c:\\users\\arkto\\appdata\\local\\programs\\python\\python311\\lib\\site-packages (from aiohttp) (23.2.0)\n",
      "Requirement already satisfied: frozenlist>=1.1.1 in c:\\users\\arkto\\appdata\\local\\programs\\python\\python311\\lib\\site-packages (from aiohttp) (1.4.1)\n",
      "Requirement already satisfied: multidict<7.0,>=4.5 in c:\\users\\arkto\\appdata\\local\\programs\\python\\python311\\lib\\site-packages (from aiohttp) (6.0.5)\n",
      "Requirement already satisfied: yarl<2.0,>=1.0 in c:\\users\\arkto\\appdata\\local\\programs\\python\\python311\\lib\\site-packages (from aiohttp) (1.9.4)\n",
      "Requirement already satisfied: plotly>=4.1.0 in c:\\users\\arkto\\appdata\\local\\programs\\python\\python311\\lib\\site-packages (from plotly.express) (5.21.0)\n",
      "Requirement already satisfied: statsmodels>=0.9.0 in c:\\users\\arkto\\appdata\\local\\programs\\python\\python311\\lib\\site-packages (from plotly.express) (0.14.2)\n",
      "Requirement already satisfied: scipy>=0.18 in c:\\users\\arkto\\appdata\\local\\programs\\python\\python311\\lib\\site-packages (from plotly.express) (1.13.1)\n",
      "Requirement already satisfied: patsy>=0.5 in c:\\users\\arkto\\appdata\\local\\programs\\python\\python311\\lib\\site-packages (from plotly.express) (0.5.6)\n",
      "Requirement already satisfied: fastjsonschema>=2.15 in c:\\users\\arkto\\appdata\\local\\programs\\python\\python311\\lib\\site-packages (from nbformat) (2.19.1)\n",
      "Requirement already satisfied: jsonschema>=2.6 in c:\\users\\arkto\\appdata\\local\\programs\\python\\python311\\lib\\site-packages (from nbformat) (4.22.0)\n",
      "Requirement already satisfied: jupyter-core!=5.0.*,>=4.12 in c:\\users\\arkto\\appdata\\local\\programs\\python\\python311\\lib\\site-packages (from nbformat) (5.7.2)\n",
      "Requirement already satisfied: traitlets>=5.1 in c:\\users\\arkto\\appdata\\local\\programs\\python\\python311\\lib\\site-packages (from nbformat) (5.14.3)\n",
      "Requirement already satisfied: jsonschema-specifications>=2023.03.6 in c:\\users\\arkto\\appdata\\local\\programs\\python\\python311\\lib\\site-packages (from jsonschema>=2.6->nbformat) (2023.12.1)\n",
      "Requirement already satisfied: referencing>=0.28.4 in c:\\users\\arkto\\appdata\\local\\programs\\python\\python311\\lib\\site-packages (from jsonschema>=2.6->nbformat) (0.35.1)\n",
      "Requirement already satisfied: rpds-py>=0.7.1 in c:\\users\\arkto\\appdata\\local\\programs\\python\\python311\\lib\\site-packages (from jsonschema>=2.6->nbformat) (0.18.1)\n",
      "Requirement already satisfied: platformdirs>=2.5 in c:\\users\\arkto\\appdata\\local\\programs\\python\\python311\\lib\\site-packages (from jupyter-core!=5.0.*,>=4.12->nbformat) (4.2.2)\n",
      "Requirement already satisfied: pywin32>=300 in c:\\users\\arkto\\appdata\\local\\programs\\python\\python311\\lib\\site-packages (from jupyter-core!=5.0.*,>=4.12->nbformat) (306)\n",
      "Requirement already satisfied: six in c:\\users\\arkto\\appdata\\local\\programs\\python\\python311\\lib\\site-packages (from patsy>=0.5->plotly.express) (1.16.0)\n",
      "Requirement already satisfied: tenacity>=6.2.0 in c:\\users\\arkto\\appdata\\local\\programs\\python\\python311\\lib\\site-packages (from plotly>=4.1.0->plotly.express) (8.2.3)\n",
      "Requirement already satisfied: packaging in c:\\users\\arkto\\appdata\\local\\programs\\python\\python311\\lib\\site-packages (from plotly>=4.1.0->plotly.express) (24.0)\n",
      "Requirement already satisfied: idna>=2.0 in c:\\users\\arkto\\appdata\\local\\programs\\python\\python311\\lib\\site-packages (from yarl<2.0,>=1.0->aiohttp) (3.6)\n",
      "Note: you may need to restart the kernel to use updated packages.\n"
     ]
    }
   ],
   "source": [
    "%pip install pandas aiohttp plotly.express asyncio nbformat"
   ]
  },
  {
   "cell_type": "code",
   "execution_count": 2,
   "id": "22c1fa8c-f19a-4061-85ff-2109626507ca",
   "metadata": {},
   "outputs": [],
   "source": [
    "import aiohttp\n",
    "import asyncio\n",
    "import json\n",
    "import plotly.express as px\n",
    "import pandas as pd\n",
    "from itertools import product\n",
    "from functools import reduce"
   ]
  },
  {
   "cell_type": "code",
   "execution_count": 3,
   "id": "b2f27b71-707a-4e06-bb8e-5f1f90954858",
   "metadata": {},
   "outputs": [],
   "source": [
    "async def getToken(username, password):\n",
    "    keyurl = \"http://localhost:33001/oauth/login3\"\n",
    "    async with aiohttp.ClientSession() as session:\n",
    "        async with session.get(keyurl) as resp:\n",
    "            keyJson = await resp.json()\n",
    "\n",
    "        payload = {\"key\": keyJson[\"key\"], \"username\": username, \"password\": password}\n",
    "        async with session.post(keyurl, json=payload) as resp:\n",
    "            tokenJson = await resp.json()\n",
    "    return tokenJson.get(\"token\", None)"
   ]
  },
  {
   "cell_type": "code",
   "execution_count": 4,
   "id": "5ef36c44-569b-4c42-afea-96adf29a4a52",
   "metadata": {},
   "outputs": [],
   "source": [
    "def query(q, token):\n",
    "    async def post(variables):\n",
    "        gqlurl = \"http://localhost:33001/api/gql\"\n",
    "        payload = {\"query\": q, \"variables\": variables}\n",
    "        cookies = {'authorization': token}\n",
    "        async with aiohttp.ClientSession() as session:\n",
    "            async with session.post(gqlurl, json=payload, cookies=cookies) as resp:\n",
    "                if resp.status != 200:\n",
    "                    text = await resp.text()\n",
    "                    print(text)\n",
    "                    return text\n",
    "                else:\n",
    "                    response = await resp.json()\n",
    "                    return response\n",
    "    return post"
   ]
  },
  {
   "cell_type": "code",
   "execution_count": 5,
   "id": "bdfcb021-2f82-404e-a6d8-7b41e342acc9",
   "metadata": {},
   "outputs": [],
   "source": [
    "def enumerateAttrs(attrs):\n",
    "    for key, value in attrs.items():\n",
    "        names = value.split(\".\")\n",
    "        name = names[0]\n",
    "        yield key, name\n",
    "\n",
    "def flattenList(inList, outItem, attrs):\n",
    "    for item in inList:\n",
    "        assert isinstance(item, dict), f\"in list only dicts are expected\"\n",
    "        for row in flatten(item, outItem, attrs):\n",
    "            yield row\n",
    "\n",
    "def flattenDict(inDict, outItem, attrs):\n",
    "    result = {**outItem}\n",
    "    complexAttrs = []\n",
    "    for key, value in enumerateAttrs(attrs):\n",
    "        attributeValue = inDict.get(value, None)\n",
    "        if isinstance(attributeValue, list):\n",
    "            complexAttrs.append((key, value))\n",
    "        elif isinstance(attributeValue, dict):\n",
    "            complexAttrs.append((key, value))\n",
    "        else:\n",
    "            result[key] = attributeValue\n",
    "    lists = []\n",
    "    for key, value in complexAttrs:\n",
    "        attributeValue = inDict.get(value, None)\n",
    "        prefix = f\"{value}.\"\n",
    "        prefixlen = len(prefix)\n",
    "        subAttrs = {key: value[prefixlen:] for key, value in attrs.items() if value.startswith(prefix)}\n",
    "        items = list(flatten(attributeValue, result, subAttrs))\n",
    "        lists.append(items)\n",
    "                     \n",
    "    if len(lists) == 0:\n",
    "        yield result\n",
    "    else:\n",
    "        for element in product(*lists):\n",
    "            reduced = reduce(lambda a, b: {**a, **b}, element, {})\n",
    "            yield reduced\n",
    "\n",
    "def flatten(inData, outItem, attrs):\n",
    "    if isinstance(inData, dict):\n",
    "        for item in flattenDict(inData, outItem, attrs):\n",
    "            yield item\n",
    "    elif isinstance(inData, list):\n",
    "        for item in flattenList(inData, outItem, attrs):\n",
    "            yield item\n",
    "    else:\n",
    "        assert False, f\"Unexpected type on inData {inData}\""
   ]
  },
  {
   "cell_type": "code",
   "execution_count": 6,
   "id": "2d16e51e-a46d-4db0-84d0-bcf4690afd33",
   "metadata": {},
   "outputs": [],
   "source": [
    "username = \"john.newbie@world.com\"\n",
    "password = \"john.newbie@world.com\""
   ]
  },
  {
   "cell_type": "code",
   "execution_count": 7,
   "id": "35f6027a-ecca-4367-a724-7d4e5599e979",
   "metadata": {},
   "outputs": [],
   "source": [
    "queryStr = \"\"\"\n",
    "{\n",
    "surveyPage{\n",
    "    id\n",
    "    name\n",
    "    # questions{\n",
    "    #     id\n",
    "    #     name\n",
    "    #     order\n",
    "    #     type{\n",
    "    #         id\n",
    "    #         name\n",
    "    #     }\n",
    "    #     answers{\n",
    "    #         id\n",
    "    #         value\n",
    "    #         answered\n",
    "    #         user{\n",
    "    #             id\n",
    "    #             email\n",
    "    #         }\n",
    "    #     }\n",
    "    # }\n",
    "    }\n",
    "}\n",
    "\n",
    "\"\"\""
   ]
  },
  {
   "cell_type": "code",
   "execution_count": 8,
   "id": "37f09559-b82b-492d-b8d1-eb36e1ba0fe6",
   "metadata": {},
   "outputs": [],
   "source": [
    "mappers = {\n",
    "     \"id\": \"id\",\n",
    "    \"name\": \"name\",\n",
    "    # \"questions\": \"questions\",\n",
    "    # \"questionsid\": \"questions.id\",\n",
    "    # \"questionsname\": \"questions.name\",\n",
    "    # \"questionsorder\": \"questions.order\",\n",
    "    # \"questionsTypeid\": \"questions.type.id\",\n",
    "    # \"questionsTypename\": \"questions.type.name\",\n",
    "    # \"questionsAnswersid\": \"questions.answers.id\",\n",
    "    # \"questionsAnswersvalue\": \"questions.answers.value\",\n",
    "    # \"questionsAnswersanswered\": \"questions.answers.answered\",\n",
    "    # \"questionsAnswerUserid\": \"questions.answers.user.id\",\n",
    "    # \"questionsAnswerUseremail\": \"questions.answers.user.email\"\n",
    "}"
   ]
  },
  {
   "cell_type": "code",
   "execution_count": 9,
   "id": "c726a450-aefa-4465-8507-8d4cdd42f6cb",
   "metadata": {},
   "outputs": [
    {
     "name": "stdout",
     "output_type": "stream",
     "text": [
      "[{'id': '910d54a9-7f2e-41ca-b811-3c600ef82fda', 'name': 'Studentské hodnocení 2022'}]\n"
     ]
    }
   ],
   "source": [
    "async def fullPipe():\n",
    "    token = await getToken(username, password)\n",
    "    qfunc = query(queryStr, token)\n",
    "    response = await qfunc({})\n",
    "\n",
    "    data = response.get(\"data\", None)\n",
    "    result = data.get(\"surveyPage\", None)\n",
    "    \n",
    "    resultMapped = list(map(lambda project: {**project, \"surveyCount\": len(project.get(\"surveys\", []))}, result))\n",
    "    flatData = flatten(resultMapped, {}, mappers)\n",
    "    return list(flatData)\n",
    "\n",
    "async def main():\n",
    "    flatData = await fullPipe()\n",
    "    with open('resultNotebook.json', \"w\", encoding='utf-8') as outputFile:\n",
    "        json.dump(flatData, outputFile)\n",
    "    print(flatData)\n",
    "\n",
    "await main()"
   ]
  },
  {
   "cell_type": "code",
   "execution_count": null,
   "id": "0b436386-7520-4349-a8d4-3642e02bfd8e",
   "metadata": {},
   "outputs": [],
   "source": []
  }
 ],
 "metadata": {
  "kernelspec": {
   "display_name": "Python 3 (ipykernel)",
   "language": "python",
   "name": "python3"
  },
  "language_info": {
   "codemirror_mode": {
    "name": "ipython",
    "version": 3
   },
   "file_extension": ".py",
   "mimetype": "text/x-python",
   "name": "python",
   "nbconvert_exporter": "python",
   "pygments_lexer": "ipython3",
   "version": "3.11.3"
  }
 },
 "nbformat": 4,
 "nbformat_minor": 5
}
